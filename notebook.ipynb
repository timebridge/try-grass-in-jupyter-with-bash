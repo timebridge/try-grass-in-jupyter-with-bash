{
 "cells": [
  {
   "cell_type": "markdown",
   "metadata": {},
   "source": [
    "# Try GRASS GIS in Jupyter Notebook with Python\n",
    "\n",
    "[<img src=\"https://grass.osgeo.org/uploads/images/logo/grassgis_logo_colorlogo_text_alphabg.png\" alt=\"GRASS GIS\" style=\"width:200px;\"/>](https://grass.osgeo.org/)\n",
    "\n",
    "This is a quick introduction into *GRASS GIS* in a *Jupyter Notebook* using the *Python* scripting language.\n",
    "The interactive notebook is available online thanks to the [*Binder*](https://mybinder.org/) service.\n",
    "\n",
    "Examples here are using a sample GRASS GIS dataset for North Carolina, USA. The dataset is included in this environment.\n",
    "\n",
    "## Usage\n",
    "\n",
    "To run the selected part which is called a cell, hit `Shift + Enter`.\n",
    "\n",
    "## Start\n",
    "\n",
    "There is several ways how GRASS GIS can be used. When using Python in notebook, we usually find GRASS GIS Python packages, import them, initialize GRASS GIS session, and set several variables useful for using GRASS GIS in a notebook."
   ]
  },
  {
   "cell_type": "code",
   "execution_count": null,
   "metadata": {},
   "outputs": [],
   "source": [
    "# simply overwrite existing maps like we overwrite Python variable values\n",
    "export GRASS_OVERWRITE=1\n",
    "# enable map rendering to in Jupyter Notebook\n",
    "export GRASS_FONT=sans\n",
    "# set display modules to render into a file (named map.png by default)\n",
    "export GRASS_RENDER_IMMEDIATE=cairo\n",
    "export GRASS_RENDER_FILE_READ=TRUE\n",
    "export GRASS_LEGEND_FILE=legend.txt"
   ]
  },
  {
   "cell_type": "markdown",
   "metadata": {},
   "source": [
    "## Raster buffer\n",
    "\n",
    "Set computational region and create multiple buffers in given distances\n",
    "around lakes represented as raster:"
   ]
  },
  {
   "cell_type": "code",
   "execution_count": null,
   "metadata": {},
   "outputs": [],
   "source": [
    "g.region raster=lakes -pg\n",
    "r.buffer input=lakes output=lakes_buff distances=60,120,240,500\n",
    "d.erase\n",
    "d.rast map=lakes_buff\n",
    "d.legend raster=lakes_buff range=2,5 at=80,100,2,10"
   ]
  },
  {
   "cell_type": "markdown",
   "metadata": {},
   "source": [
    "<img src=\"map.png\">"
   ]
  },
  {
   "cell_type": "markdown",
   "metadata": {},
   "source": [
    "## Vector buffer\n",
    "\n",
    "Create a negative buffer around state boundary represented as a vector.\n",
    "Vector modules typically don't follow computational region,\n",
    "but we set it to inform display modules about our area of interest."
   ]
  },
  {
   "cell_type": "code",
   "execution_count": null,
   "metadata": {},
   "outputs": [],
   "source": [
    "v.buffer input=boundary_state output=buffer distance=-10000\n",
    "g.region vector=boundary_state -pg\n",
    "export GRASS_RENDER_FILE=vector.png\n",
    "d.erase  # erase the display before drawing again\n",
    "rm -f $GRASS_LEGEND_FILE  # and remove the legend file\n",
    "d.vect map=boundary_state fill_color=\"#5A91ED\", legend_label=\"State boundary\"\n",
    "d.vect map=buffer fill_color=\"#F8766D\" legend_label=\"Inner portion\"\n",
    "d.legend.vect at=10,35"
   ]
  },
  {
   "cell_type": "markdown",
   "metadata": {},
   "source": [
    "<img src=\"vector.png\">"
   ]
  }
 ],
 "metadata": {
  "kernelspec": {
   "display_name": "Calysto Bash",
   "language": "bash",
   "name": "calysto_bash"
  },
  "language_info": {
   "file_extension": ".sh",
   "help_links": [
    {
     "text": "MetaKernel Magics",
     "url": "https://metakernel.readthedocs.io/en/latest/source/README.html"
    }
   ],
   "mimetype": "text/x-sh",
   "name": "bash",
   "version": "0.2.1"
  }
 },
 "nbformat": 4,
 "nbformat_minor": 1
}
