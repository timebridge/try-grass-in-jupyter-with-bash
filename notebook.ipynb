{
 "cells": [
  {
   "cell_type": "markdown",
   "metadata": {},
   "source": [
    "# Try GRASS GIS in Jupyter Notebook with Bash\n",
    "\n",
    "[<img src=\"https://grass.osgeo.org/uploads/images/logo/grassgis_logo_colorlogo_text_alphabg.png\" alt=\"GRASS GIS\" style=\"width:200px;\"/>](https://grass.osgeo.org/)\n",
    "\n",
    "This is a quick introduction into *GRASS GIS* in a *Jupyter Notebook* using a *Bash* command line.\n",
    "The interactive notebook is available online thanks to the [*Binder*](https://mybinder.org/) service.\n",
    "\n",
    "The GRASS GIS is already running in the background, so you can\n",
    "execute GRASS GIS commands (modules) right away.\n",
    "Examples here are using a sample GRASS GIS dataset for North Carolina, USA.\n",
    "The dataset is included in this environment.\n",
    "\n",
    "## Usage\n",
    "\n",
    "To run the selected part which is called a cell, hit `Shift + Enter`.\n",
    "\n",
    "## Session  and configuration\n",
    "\n",
    "There is several ways how GRASS GIS can be used. When you start GRASS GIS on a desktop,\n",
    "besides grapical user intrface (GUI), you can also a command line (CLI).\n",
    "This would be typically Bash on Linux other other similar systems.\n",
    "In this command line, you would be able to execute GRASS GIS commands (modules)\n",
    "which are only available within GRASS GIS session.\n",
    "This notebook is already running inside a GRASS GIS session which is connected\n",
    "to a database containing the dataset mentioned above.\n",
    "In addition to it, we set here several variables useful for using GRASS GIS in a notebook."
   ]
  },
  {
   "cell_type": "code",
   "execution_count": null,
   "metadata": {},
   "outputs": [],
   "source": [
    "# simply overwrite existing maps like we overwrite Python variable values\n",
    "export GRASS_OVERWRITE=1\n",
    "# enable map rendering to in Jupyter Notebook\n",
    "export GRASS_FONT=sans\n",
    "# set display modules to render into a file (named map.png by default)\n",
    "export GRASS_RENDER_IMMEDIATE=cairo\n",
    "export GRASS_RENDER_FILE_READ=TRUE\n",
    "export GRASS_LEGEND_FILE=legend.txt"
   ]
  },
  {
   "cell_type": "markdown",
   "metadata": {},
   "source": [
    "## Raster buffer\n",
    "\n",
    "Set computational region and create multiple buffers in given distances\n",
    "around lakes represented as raster:"
   ]
  },
  {
   "cell_type": "code",
   "execution_count": null,
   "metadata": {},
   "outputs": [],
   "source": [
    "g.region raster=lakes -pg\n",
    "r.buffer input=lakes output=lakes_buff distances=60,120,240,500\n",
    "d.erase\n",
    "d.rast map=lakes_buff\n",
    "d.legend raster=lakes_buff range=2,5 at=80,100,2,10"
   ]
  },
  {
   "cell_type": "code",
   "execution_count": null,
   "metadata": {},
   "outputs": [],
   "source": [
    "%html <img src=\"map.png\">\n",
    "# you may need to reload the page\n",
    "# when you render a new image to update it"
   ]
  },
  {
   "cell_type": "markdown",
   "metadata": {},
   "source": [
    "## Vector buffer\n",
    "\n",
    "Create a negative buffer around state boundary represented as a vector.\n",
    "Vector modules typically don't follow computational region,\n",
    "but we set it to inform display modules about our area of interest."
   ]
  },
  {
   "cell_type": "code",
   "execution_count": null,
   "metadata": {},
   "outputs": [],
   "source": [
    "v.buffer input=boundary_state output=buffer distance=-10000\n",
    "g.region vector=boundary_state -pg\n",
    "# we need to use a unique name for every image because web browser caches images by name\n",
    "export GRASS_RENDER_FILE=vector.png\n",
    "d.erase  # erase the display before drawing again\n",
    "rm -f $GRASS_LEGEND_FILE  # and remove the legend file\n",
    "d.vect map=boundary_state fill_color=\"#5A91ED\", legend_label=\"State boundary\"\n",
    "d.vect map=buffer fill_color=\"#F8766D\" legend_label=\"Inner portion\"\n",
    "d.legend.vect at=10,35"
   ]
  },
  {
   "cell_type": "code",
   "execution_count": null,
   "metadata": {},
   "outputs": [],
   "source": [
    "%html <img src=\"vector.png\">"
   ]
  }
 ],
 "metadata": {
  "kernelspec": {
   "display_name": "Calysto Bash",
   "language": "bash",
   "name": "calysto_bash"
  },
  "language_info": {
   "file_extension": ".sh",
   "help_links": [
    {
     "text": "MetaKernel Magics",
     "url": "https://metakernel.readthedocs.io/en/latest/source/README.html"
    }
   ],
   "mimetype": "text/x-sh",
   "name": "bash",
   "version": "0.2.1"
  }
 },
 "nbformat": 4,
 "nbformat_minor": 1
}
